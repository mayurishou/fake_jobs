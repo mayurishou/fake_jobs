{
 "cells": [
  {
   "cell_type": "code",
   "execution_count": null,
   "metadata": {},
   "outputs": [],
   "source": [
    "import requests\n",
    "page = requests.get('https://realpython.github.io/fake-jobs/')\n",
    "from bs4 import BeautifulSoup\n",
    "soup = BeautifulSoup(page.content, 'html.parser')\n",
    "soup.prettify()\n"
   ]
  },
  {
   "cell_type": "code",
   "execution_count": 141,
   "metadata": {},
   "outputs": [
    {
     "data": {
      "text/plain": [
       "['Senior Python Developer',\n",
       " 'Energy engineer',\n",
       " 'Legal executive',\n",
       " 'Fitness centre manager',\n",
       " 'Product manager',\n",
       " 'Medical technical officer',\n",
       " 'Physiological scientist',\n",
       " 'Textile designer',\n",
       " 'Television floor manager',\n",
       " 'Waste management officer']"
      ]
     },
     "execution_count": 141,
     "metadata": {},
     "output_type": "execute_result"
    }
   ],
   "source": [
    "#Position names\n",
    "list1=[]\n",
    "positions = soup.find_all(\"h2\", class_ = 'title is-5')\n",
    "for el in positions:\n",
    "    list1.append(el.text)\n",
    "len(list1)\n",
    "list1[0:10]\n",
    "\n"
   ]
  },
  {
   "cell_type": "code",
   "execution_count": 143,
   "metadata": {},
   "outputs": [
    {
     "data": {
      "text/plain": [
       "['Payne, Roberts and Davis',\n",
       " 'Vasquez-Davidson',\n",
       " 'Jackson, Chambers and Levy',\n",
       " 'Savage-Bradley',\n",
       " 'Ramirez Inc',\n",
       " 'Rogers-Yates',\n",
       " 'Kramer-Klein',\n",
       " 'Meyers-Johnson',\n",
       " 'Hughes-Williams',\n",
       " 'Jones, Williams and Villa']"
      ]
     },
     "execution_count": 143,
     "metadata": {},
     "output_type": "execute_result"
    }
   ],
   "source": [
    "#Company names \n",
    "list2 = [] \n",
    "companies = soup.find_all(\"h3\", class_ = 'subtitle is-6 company')\n",
    "for el in companies:\n",
    "    list2.append(el.text)\n",
    "len(list2)\n",
    "list2[0:10]"
   ]
  },
  {
   "cell_type": "code",
   "execution_count": 144,
   "metadata": {},
   "outputs": [
    {
     "data": {
      "text/plain": [
       "['\\n        Stewartbury, AA\\n      ',\n",
       " '\\n        Christopherville, AA\\n      ',\n",
       " '\\n        Port Ericaburgh, AA\\n      ',\n",
       " '\\n        East Seanview, AP\\n      ',\n",
       " '\\n        North Jamieview, AP\\n      ',\n",
       " '\\n        Davidville, AP\\n      ',\n",
       " '\\n        South Christopher, AE\\n      ',\n",
       " '\\n        Port Jonathan, AE\\n      ',\n",
       " '\\n        Osbornetown, AE\\n      ',\n",
       " '\\n        Scotttown, AP\\n      ']"
      ]
     },
     "execution_count": 144,
     "metadata": {},
     "output_type": "execute_result"
    }
   ],
   "source": [
    "#Location names\n",
    "list3 = [] \n",
    "locations = soup.find_all(\"p\", class_ = 'location')\n",
    "for el in locations:\n",
    "    list3.append(el.text)\n",
    "len(list3)\n",
    "list3[0:10]"
   ]
  },
  {
   "cell_type": "code",
   "execution_count": 146,
   "metadata": {},
   "outputs": [
    {
     "data": {
      "text/plain": [
       "['2021-04-08',\n",
       " '2021-04-08',\n",
       " '2021-04-08',\n",
       " '2021-04-08',\n",
       " '2021-04-08',\n",
       " '2021-04-08',\n",
       " '2021-04-08',\n",
       " '2021-04-08',\n",
       " '2021-04-08',\n",
       " '2021-04-08']"
      ]
     },
     "execution_count": 146,
     "metadata": {},
     "output_type": "execute_result"
    }
   ],
   "source": [
    "#Time\n",
    "list4 = []\n",
    "time = soup.find_all('time')\n",
    "for el in time:\n",
    "    list4.append(el.text)\n",
    "len(list4)\n",
    "list4[0:10]"
   ]
  },
  {
   "cell_type": "code",
   "execution_count": 149,
   "metadata": {},
   "outputs": [
    {
     "data": {
      "text/plain": [
       "['https://realpython.github.io/fake-jobs/jobs/senior-python-developer-0.html',\n",
       " 'https://realpython.github.io/fake-jobs/jobs/energy-engineer-1.html',\n",
       " 'https://realpython.github.io/fake-jobs/jobs/legal-executive-2.html',\n",
       " 'https://realpython.github.io/fake-jobs/jobs/fitness-centre-manager-3.html',\n",
       " 'https://realpython.github.io/fake-jobs/jobs/product-manager-4.html',\n",
       " 'https://realpython.github.io/fake-jobs/jobs/medical-technical-officer-5.html',\n",
       " 'https://realpython.github.io/fake-jobs/jobs/physiological-scientist-6.html',\n",
       " 'https://realpython.github.io/fake-jobs/jobs/textile-designer-7.html',\n",
       " 'https://realpython.github.io/fake-jobs/jobs/television-floor-manager-8.html',\n",
       " 'https://realpython.github.io/fake-jobs/jobs/waste-management-officer-9.html']"
      ]
     },
     "execution_count": 149,
     "metadata": {},
     "output_type": "execute_result"
    }
   ],
   "source": [
    "#Links\n",
    "list5 = []\n",
    "links = soup.find_all('a', string = 'Apply')\n",
    "for el in links:\n",
    "    link_url = el['href']\n",
    "    list5.append(link_url)\n",
    "len(list5)\n",
    "list5[0:10]\n",
    "\n"
   ]
  },
  {
   "cell_type": "code",
   "execution_count": 133,
   "metadata": {},
   "outputs": [
    {
     "data": {
      "text/plain": [
       "100"
      ]
     },
     "execution_count": 133,
     "metadata": {},
     "output_type": "execute_result"
    }
   ],
   "source": [
    "#Description\n",
    "list6 = []\n",
    "for link in list5:\n",
    "    link_url = link[\"href\"]\n",
    "    ppage = requests.get(link_url)\n",
    "    sub_page = BeautifulSoup(ppage.content, \"html.parser\")\n",
    "    tekst = sub_page.find_all(\"div\", class_=\"content\")\n",
    "    for t in tekst:\n",
    "        descr = t.text.strip()\n",
    "        list6.append(descr)\n",
    "len(list6)"
   ]
  },
  {
   "cell_type": "code",
   "execution_count": 150,
   "metadata": {},
   "outputs": [],
   "source": [
    "\n",
    "# Import pandas library\n",
    "import pandas as pd\n",
    "\n",
    "fake_jobs_df = pd.DataFrame({'Position':list1, 'Company':list2, 'Location':list3, 'Time':list4, 'Link':list5, 'Description':list6})\n",
    "\n",
    "fake_jobs_df.to_csv('Fake_jobs.csv')"
   ]
  }
 ],
 "metadata": {
  "kernelspec": {
   "display_name": "Python 3.10.6 64-bit",
   "language": "python",
   "name": "python3"
  },
  "language_info": {
   "codemirror_mode": {
    "name": "ipython",
    "version": 3
   },
   "file_extension": ".py",
   "mimetype": "text/x-python",
   "name": "python",
   "nbconvert_exporter": "python",
   "pygments_lexer": "ipython3",
   "version": "3.10.6"
  },
  "orig_nbformat": 4,
  "vscode": {
   "interpreter": {
    "hash": "b577a86a651e0b270f81d461cd875de9c2e4edcb3c0bbd15aead5676560c49c6"
   }
  }
 },
 "nbformat": 4,
 "nbformat_minor": 2
}
